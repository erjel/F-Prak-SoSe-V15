{
 "cells": [
  {
   "cell_type": "markdown",
   "metadata": {},
   "source": [
    "# Python Vorbereitungen"
   ]
  },
  {
   "cell_type": "markdown",
   "metadata": {},
   "source": [
    "Dieses Dokument beinhaltet eine Einführung in die für das Praktikum wichtigsten Python-Befehle. Das Dokument wird einige Beispiele enthalten.\n",
    "\n",
    "Die wichtigesten Befehle werden aber von euch selbst erarbeitet."
   ]
  },
  {
   "cell_type": "markdown",
   "metadata": {},
   "source": [
    "## Vorwissen von Pythoneinführung\n",
    "Ich erwarte, dass Ihr euch (zumindest) die Folien von der Python-Einführung an unseren Fachbereich angeschaut habt und nehme an, dass ihr mit der Terminolgie vertraut seid:\n",
    "* Variable\n",
    "* Datentypen\n",
    "* Textoutput in Kommandozeile\n",
    "* Listen\n",
    "* if, else, elif Statements\n",
    "* for, while - Schleifen\n",
    "* selbst definierte Funktionen\n",
    "* Module\n",
    "* Grundsätzliche Idee was numpy ist\n",
    "* Gründsätzliche Idee von matplotlib\n",
    "\n",
    "Falls Ihr die Folien nicht zur Verfügung habt, dann schreibt mich bitte an. Ich kann euch eine ältere (aber absolut ausreichende) Version zuschicken."
   ]
  },
  {
   "cell_type": "markdown",
   "metadata": {},
   "source": [
    "# Die Python Umgebung\n",
    "\n",
    "Im Gegensatz zur Python-Einführung des Fachbereichs empfehle ich euch die [Anaconda](https://www.anaconda.com/distribution/) Distribution herunterzuladen. In der Vergangenheit konnte ich vielen Problemen aus den Weg gehen in dem ich [Umgebungen](https://docs.conda.io/projects/conda/en/latest/user-guide/tasks/manage-environments.html#creating-an-environment-with-commands) benutzt habe, sodass die Abhängigkeiten zwischen verschiedenen Pythonumgebungen für verschiedene Projekte immer innerhalb einer eigenen Umgebung abgedeckt worden sind.\n",
    "\n",
    "Dazu kommt, dass alle für diese jupyter Notebook notwendigen Module mit dem Download mitgeliefert werden.\n",
    "\n",
    "Anleitungen wie ihr jupyter startet findet ihr im [Internet](https://jupyter-notebook-beginner-guide.readthedocs.io/en/latest/execute.html)."
   ]
  },
  {
   "cell_type": "markdown",
   "metadata": {},
   "source": [
    "# Wichtige Kommandozeilenbefehle\n",
    "\n",
    "Im Rahmen des Praktikums werden wir zum Großteil auf einem Server arbeiten, der keine grafische Oberfläche bereitstellt.\n",
    "1. Eine grafische Oberfläche bindet Resources\n",
    "2. Eine Übertragung von Videostreams (nichts anders wäre eine Weiterleitung der Benutzeroberfläche), erzeugt eine große Netzwerklast\n",
    "\n",
    "Ihr seid wahrscheinlich mit der Bedienung eines (oder mehreren) Betriebssystems eurer Wahl vertraut und benutzt dafür einen grafischen Dateimanager (Windows Explorer (Windows), Finder (MacOSX), Nautilius (Ubuntu) etc.). Im Praktikum haben wir nur die Möglichkeit über die (Ubuntu) Komandozeile Dateien zu modifizieren.\n",
    "\n",
    "Auch wenn Ihr wenig oder gar keine Erfahrung mit Ubuntu habt, könnt ihr mittels einer Suchmaschine sehr schnell die gesuchten Befehle nachschauen.\n",
    "\n",
    "In Jupyter könnt ihr Systembefehle mit einem vorangestellten `!` direkt in einer eignen Zelle ausfürhen.\n",
    "\n",
    "#### Aufgabe\n",
    "Findet die Befehle heraus, mit der man unter Ubuntu:\n",
    "- Den Inhalt eines Verzeichnisses anzeigen lassen kann.\n",
    "- Das aktuelle Verzeichnis sich anzeigen lassen kann.\n",
    "- Ein Verzeichnis wechseln kann.\n",
    "- Eine Datei umbenennen kann.\n",
    "- Eine Datei von einem Verzeichnis in ein anderes Verzeichnis schieben kann.\n",
    "- Eine Datei von einem Verzeichnis in ein anderes Vezeichnis kopieren kann.\n",
    "- Eine Datei löschen kann."
   ]
  },
  {
   "cell_type": "code",
   "execution_count": null,
   "metadata": {},
   "outputs": [],
   "source": []
  },
  {
   "cell_type": "markdown",
   "metadata": {},
   "source": [
    "# Einloggen in einen entfernten Server: ssh\n",
    "\n",
    "Mit Sicherheit habt ihr schon mal auf einen Dienst auf einen anderen Computer mit euren eigenen Computer zugegriffen. Jedes Mal wenn ihr eine Website besucht, überträgt ein Server eine Website an euren eigenen Computer (Client). Dies ist geschieht mit dem Hypertext Transfer Procotol (http) oder mit seiner verschlüsselten Variante https.\n",
    "\n",
    "Auch wenn http das prominenteste Netzwerkprotokoll ist, existieren noch eine unglaublich große Zahl von weiteren Protokollen. Eines davon heißt Secure Shell (ssh) und erlaubt es uns auf entfernte Rechner einzuloggen und eine Kommandozeile zu starten.\n",
    "\n",
    "Auf einen Server in unsere Arbeitsgruppe existiert ein leistungsstarker Computer auf dem eine perfekt auf den Versuch zugeschnittene Python-Umgebung installiert ist. Auf diese Python-Umgebung kann mit jupyter über eine Website zugegriffen werden. Leider läuft der Computer in einen gesichterten Netzwerk, sodass wir ihn nicht direkt erreichen können.\n",
    "\n",
    "Erschwert kommt hinzu, dass ein normaler Browser davon ausgeht, dass er websiten immer auf den gleichen Port (vergleichbar mit verschiedenen Eingangstüren im Mehrzweckgebäude) vorfindet (im Fall von Http ist das Port 80, bei HTTPs ist es Port 443).\n",
    "\n",
    "Jupyter stellt aber die Website standardmäßig unter Port 8888 zur Verfügung.\n",
    "\n",
    "Wir können SSH benutzen um uns auf den entfernten Rechner einzuloggen und den Port 8888 auf unseren lokalen Computer umzuleiten. Die Technik heißt ssh tunnel und ihr findet zahlreiche [Anleitungen](http://www.netzmafia.de/skripten/internet/ssh-tunnel.html) dazu im Internet. Zu Beginn des Versuchs werde ich euch zeigen wie wir alles richtig einrichten."
   ]
  },
  {
   "cell_type": "markdown",
   "metadata": {},
   "source": [
    "# Dateioperationen mit `os.path`\n",
    "\n",
    "In dem Modul os.path findet ihr allerhand Funktionen die es euch erlauben Dateipfade unabhängig von dem aktuellen Betriebssystem zu berarbeiten. (Vgl. / unter Linux mit \\ unter Windows).\n",
    "\n",
    "Dateipfade werden von Python als Strings verarbeitet. D.h. das ihr alles was ihr mit Funktionen in os.path machen könnt auch mit normalen Stringoperationen erreichen könntet.\n",
    "\n",
    "Die wichtigsten Operationen sind:\n",
    "\n",
    "Funktionen die Pfade modifizieren\n",
    "```\n",
    "os.path.basename(path)\n",
    "os.path.dirname(path)\n",
    "os.path.join(path, *paths)\n",
    "```\n",
    "\n",
    "Funktionen die die Existenz von einen bestimmten Pfad/ Datei überprüfen\n",
    "```\n",
    "os.path.exists(path)\n",
    "os.path.isfile(path)\n",
    "```\n",
    "\n",
    "#### Aufgabe:\n",
    "Es seien ein Pfad gegeben:"
   ]
  },
  {
   "cell_type": "code",
   "execution_count": null,
   "metadata": {},
   "outputs": [],
   "source": [
    "path = '/home/fprak/Data/GT/image1.tif'"
   ]
  },
  {
   "cell_type": "markdown",
   "metadata": {},
   "source": [
    "Benutzt die oben genannten Operationen um\n",
    "1. Den Namen der Bilddatei zu extrahieren.\n",
    "2. Den Ordner der Bilddatei zu extrahieren.\n",
    "3. Einen neuen Pfad '/home/fprak/Data/IN/image1.tif' zu erzeugen."
   ]
  },
  {
   "cell_type": "code",
   "execution_count": null,
   "metadata": {},
   "outputs": [],
   "source": []
  },
  {
   "cell_type": "markdown",
   "metadata": {},
   "source": [
    "## Weitere Kenntnisse zu for-Schleifen\n",
    "\n",
    "Im Gegensatz zu anderen Programmiersprachen wie C++ oder Java, die for-Schleifen über einen Index laufen lassen, benutzen for-Schleifen in Python ein Iterator-Objekt aus denen die einzelnen Werte extrahiert werden.\n",
    "\n",
    "Natürlich gibt es Iteratoren um Indizes zu erzeugen (vgl. `range(val)`). Mit diesen lassen sich alle Beispiele ebenfalls implementieren. \n",
    "\n",
    "Ich möchte euch trotzdem ein paar elegantere Ansätze zeigen.\n",
    "\n",
    "#### Standardbeispiel for-Schleife"
   ]
  },
  {
   "cell_type": "code",
   "execution_count": null,
   "metadata": {},
   "outputs": [],
   "source": [
    "for i in range(10):\n",
    "    print(i)"
   ]
  },
  {
   "cell_type": "markdown",
   "metadata": {},
   "source": [
    "Hier wird durch die Funktion `range()` ein Iterator erstellt, der die Indizes 0 - 9 enthält. Jeder einzelne Wert des Iterators wird in der Schleifenvariable `i` gespeichert.\n",
    "\n",
    "Numpy-Array sind erfüllen auch die Eigenschaften eines Iterators:"
   ]
  },
  {
   "cell_type": "code",
   "execution_count": null,
   "metadata": {},
   "outputs": [],
   "source": [
    "import numpy as np\n",
    "\n",
    "zufallswerte = np.random.random(10)\n",
    "for wert in zufallswerte:\n",
    "    print(wert)"
   ]
  },
  {
   "cell_type": "markdown",
   "metadata": {},
   "source": [
    "Wenn wir jetzt sowohl den Wert als auch den Index innerhalb des Interators \n",
    "benutzten wollen, dann können wir die Funktion `enumerate` benutzen."
   ]
  },
  {
   "cell_type": "code",
   "execution_count": null,
   "metadata": {},
   "outputs": [],
   "source": [
    "for i, wert in enumerate(zufallswerte):\n",
    "    print(\"Wert {} = {}\".format(i, wert))"
   ]
  },
  {
   "cell_type": "markdown",
   "metadata": {},
   "source": [
    "In manchen Fällen ist es notwendig über mehrere Listen gleichzeitig zu iterieren.\n",
    "\n",
    "Ein einfacher Ansatz wäre es über den Index zu iterieren (dies wäre der Ansatz in MatLab). Wenn wir aber den Index nicht wirklich benötigen, können wir die Iteratoren mit `zip` zusammenfassen."
   ]
  },
  {
   "cell_type": "code",
   "execution_count": null,
   "metadata": {},
   "outputs": [],
   "source": [
    "farben = ['rot', 'grün', 'blau', 'weiß'];\n",
    "gegenstaende = ['Rose', 'Gras', 'Himmel', 'Eisbär']\n",
    "artikel = ['Die', 'Das', 'Der', 'Der']\n",
    "\n",
    "for artikel_, gegenstand, farbe in zip(artikel, gegenstaende, farben):\n",
    "    print(\"{} {} ist {}\".format(artikel_, gegenstand, farbe))"
   ]
  },
  {
   "cell_type": "markdown",
   "metadata": {},
   "source": [
    "#### Aufgabe:\n",
    "\n",
    "* Impelemtiert alle oben genannten Beispiele mit dem Index-basierten Iterator `range()` "
   ]
  },
  {
   "cell_type": "code",
   "execution_count": null,
   "metadata": {},
   "outputs": [],
   "source": []
  },
  {
   "cell_type": "markdown",
   "metadata": {},
   "source": [
    "## Listen-Abstraktion (List Comprehension)\n",
    "\n",
    "Eine Fähigkeit, die mir bisher noch bei keiner weiteren Programmiersprache über den Weg gelaufen ist, sind Listen-Abstraktionen.\n",
    "\n",
    "Dabei handelt es sich um eine [Notation](https://www.python-kurs.eu/list_comprehension.php) für die Initalisierung von Listem, die der mathematischen Notation von Mengen gleicht.\n",
    "\n",
    "#### Beispiel:\n",
    "Initalisierung der Quadratzahlen von 0 bis 100\n",
    "$$\n",
    "Q = \\{x^2| x \\in \\mathbb{N}\\}\n",
    "$$"
   ]
  },
  {
   "cell_type": "code",
   "execution_count": null,
   "metadata": {},
   "outputs": [],
   "source": [
    "Q = [x**2 for x in range(11)]\n",
    "Q"
   ]
  },
  {
   "cell_type": "markdown",
   "metadata": {},
   "source": [
    "#### Aufgabe:\n",
    "Erstellt `Q` über eine Standard for-Schleife"
   ]
  },
  {
   "cell_type": "code",
   "execution_count": null,
   "metadata": {},
   "outputs": [],
   "source": []
  },
  {
   "cell_type": "markdown",
   "metadata": {},
   "source": [
    "## Entpacken von Listen mit asteriks-Operator\n",
    "Der Asteriks Operator kann eine Liste entpacken und somit einer Funktion mehrere Eingabeparameter auf einmal weitergeben.\n",
    "\n",
    "So solltet Ihr bereits gesehen haben, dass die `print`-Funktion eine beliebige Anzahl an Parameter akzeptiert und als Kommandozeilenoutput wiedergibt."
   ]
  },
  {
   "cell_type": "code",
   "execution_count": null,
   "metadata": {},
   "outputs": [],
   "source": [
    "print(*gegenstaende)"
   ]
  },
  {
   "cell_type": "markdown",
   "metadata": {},
   "source": [
    "#### Aufgabe:\n",
    "* Wie würde eine `print`-Funktion aussehen, die genau die gleiche Ausgabe produziert?"
   ]
  },
  {
   "cell_type": "code",
   "execution_count": null,
   "metadata": {},
   "outputs": [],
   "source": []
  },
  {
   "cell_type": "markdown",
   "metadata": {},
   "source": [
    "## Übersicht numpy Funktionen\n",
    "\n",
    "Ich würde mal behaupten, dass das numpy Modul eines der wichtigsten Python-Module ist.\n",
    "\n",
    "Es ist sehr umfangreich. Eine komplette Einführung würde den Rahmen dieses Notebooks komplett sprengen (vor allem, da es bereits selbst ein eigenes [Tutorial](https://www.numpy.org/devdocs/user/quickstart.html) anbietet.\n",
    "\n",
    "Eine Faustregel: Wenn ihr eine bestimmte (einfache) Funktionalität bzgl. Matrixmodifikationen oder Rechenoperationen benötigt, dann ist die Wahrscheinlichkeit groß das ihr mit einer Suchmaschine innerhalb des numpy Moduls fündig werdet.\n",
    "\n",
    "Die Zeiten in denen man selbst so etwas wie eine Matrix-Matrix-Mulitplikation schreiben musste sind lange vorbei.\n",
    "\n",
    "#### Aufgabe:\n",
    "* Erzeugt euch mit numpy eine Array mit 20 zufälligen Integerwerten zwischen 0 und 64 (wobei 64 nicht Teil des Wertebereichs sein sollte)\n",
    "* Lasst euch folgende Werte mit der zugehörigen numpy Funktion berechnen\n",
    "  * Minimum\n",
    "  * Maxiumum\n",
    "  * Mittelwert\n",
    "  * Summe\n",
    "  * Standardabweichung"
   ]
  },
  {
   "cell_type": "code",
   "execution_count": null,
   "metadata": {},
   "outputs": [],
   "source": [
    "import numpy as np\n",
    "# Hier euren Code ergänzen"
   ]
  },
  {
   "cell_type": "markdown",
   "metadata": {},
   "source": [
    "Mit der Funktion `unique` könnt ihr euch einzigartige Werte eines numpy array ausgeben lassen.\n",
    "\n",
    "#### Beispiel:"
   ]
  },
  {
   "cell_type": "code",
   "execution_count": null,
   "metadata": {},
   "outputs": [],
   "source": [
    "arr = np.round(np.random.random(20))\n",
    "print('original = ', arr)\n",
    "print('einzigartig = ', np.unique(arr))\n"
   ]
  },
  {
   "cell_type": "markdown",
   "metadata": {},
   "source": [
    "Mit `save` könnt ihr Numpy arrays auf der Festplatte speichern.\n",
    "\n",
    "#### Beispiel:"
   ]
  },
  {
   "cell_type": "code",
   "execution_count": null,
   "metadata": {},
   "outputs": [],
   "source": [
    "np.save('to_delete.npy', np.random.random(100))"
   ]
  },
  {
   "cell_type": "markdown",
   "metadata": {},
   "source": [
    "Es gibt mehrere Möglichkeiten Numpy arrays zu erstellen.\n",
    "\n",
    "1. Man benutzt den Standard Konstuktor\n",
    "2. Funktionen\n",
    "\n",
    "Das Erstellen über einen Konstruktor ist nur für kleine Arrays praktikabel und dauert bei großen Array  mit unter sehr lange. In der Regel, benutzen wir Arrays dazu um Ergebnisse von anderen Berechnungen zu speichern, oder um eine bestimmte Art von Array zu erzeugen."
   ]
  },
  {
   "cell_type": "code",
   "execution_count": null,
   "metadata": {},
   "outputs": [],
   "source": [
    "# Beispiel über Konstuktor\n",
    "arr = np.array([1, 2, 3, 4, 5])\n",
    "arr"
   ]
  },
  {
   "cell_type": "code",
   "execution_count": null,
   "metadata": {},
   "outputs": [],
   "source": [
    "# Beispiel über eine Funktion, die regelmäßige Ganzzahlen erzeugt\n",
    "arr2 = np.arange(1, 6)\n",
    "print(arr2)\n",
    "\n",
    "# Beispiel der Funktion die ein Array einer beliebigen Form\n",
    "# mit 0 initalisiert\n",
    "arr3 = np.zeros((2, 3, 4))\n",
    "print(arr3)\n",
    "\n",
    "# Keiner möchte Array auf der Größe von Bildern mit der Form \n",
    "# (1024, 1024, 3) per Konstruktor definieren ..."
   ]
  },
  {
   "cell_type": "markdown",
   "metadata": {},
   "source": [
    "Numpy arrays können aber nicht nur Fließkomazahlen und Integers beinhalten, sondern auch einfache Booleans (wahr/ falsch).\n",
    "Wenn ein Array nur logische Werte beinhaltet, können wir verscheidenene Tests durchführen (kein Anspruch auf Vollständigkeit)"
   ]
  },
  {
   "cell_type": "code",
   "execution_count": null,
   "metadata": {},
   "outputs": [],
   "source": [
    "arr = np.random.random(20) > 0.5"
   ]
  },
  {
   "cell_type": "code",
   "execution_count": null,
   "metadata": {},
   "outputs": [],
   "source": [
    "print(np.any(arr)) # Testet ob ein Wert 'wahr' ist\n",
    "print(np.where(arr)) # Gibt alle Indizes zurück an denen 'wahr' gespeichert ist."
   ]
  },
  {
   "cell_type": "markdown",
   "metadata": {},
   "source": [
    "### Arrays vergrößern, aneinanderreihen etc.\n",
    "\n",
    "#### Aufgabe:\n",
    "Findet die Numpy Funktionen\n",
    "* Die zwei Array zusammenfügen\n",
    "* Die ein Array mit Nullen am Rand vergrößern\n",
    "\n",
    "und testet sie!"
   ]
  },
  {
   "cell_type": "code",
   "execution_count": null,
   "metadata": {},
   "outputs": [],
   "source": []
  },
  {
   "cell_type": "markdown",
   "metadata": {},
   "source": [
    "### Rundungsoperationenen\n",
    "* `np.round`\n",
    "* `np.floor`\n",
    "* `np.ceil`"
   ]
  },
  {
   "cell_type": "markdown",
   "metadata": {},
   "source": [
    "### Arrayform mofizieren\n",
    "\n",
    "Oft wollen müssen wir die Form von Arrays modifizieren. Entweder um obsolete Achsen zu entfernen, oder aber um alle Achsen auf eine einzige zürckzuführen.\n",
    "\n",
    "Dies können wir mit den Funktionen `np.squeeze` und `np.ravel` machen."
   ]
  },
  {
   "cell_type": "code",
   "execution_count": null,
   "metadata": {},
   "outputs": [],
   "source": [
    "arr = np.zeros((2,1, 3,5))\n",
    "print(arr.shape)\n",
    "\n",
    "# arr hat eine singuläre Achse. Wir können sie mit squeeze entfernen\n",
    "arr_ = np.squeeze(arr)\n",
    "print(arr_.shape)"
   ]
  },
  {
   "cell_type": "code",
   "execution_count": null,
   "metadata": {},
   "outputs": [],
   "source": [
    "# Genauso kann ravel. Alle Achsen auf eine einzige reduzieren.\n",
    "arr_ = np.ravel(arr)\n",
    "print(arr_.shape)"
   ]
  },
  {
   "cell_type": "markdown",
   "metadata": {},
   "source": [
    "Wir hätten aber auch direkt eine Methode der Klasse Array benutzen können"
   ]
  },
  {
   "cell_type": "code",
   "execution_count": null,
   "metadata": {},
   "outputs": [],
   "source": [
    "print(arr.flatten().shape)\n",
    "print(arr.reshape(2, 3, -1).shape)"
   ]
  },
  {
   "cell_type": "markdown",
   "metadata": {},
   "source": [
    "### Aufgabe:\n",
    "Was ist die Bedeutung der -1 in der `reshape` Methode?"
   ]
  },
  {
   "cell_type": "markdown",
   "metadata": {},
   "source": [
    "## Das wichtigste Array Attribut \n",
    "\n",
    "**Falls noch nicht bemerkt**"
   ]
  },
  {
   "cell_type": "code",
   "execution_count": null,
   "metadata": {},
   "outputs": [],
   "source": [
    "arr3.shape # Zeigt euch die Form eines Arrays an"
   ]
  },
  {
   "cell_type": "markdown",
   "metadata": {},
   "source": [
    "# Matplotlib\n",
    "\n",
    "Matplotlib ist ein sehr umfangreiches Modul um Diagramme auf Veröffentlichungsniveau erstellen.\n",
    "\n",
    "Der schnellste Weg Matplotlib zu meistern ist meiner Meinung nach Copy-Paste von Beispielen. Im Folgenden findet ihr einige davon. Für hochwertige Beispiel empfehle iche euch die sehr sehr umfangreiche [Beispielgallerie](https://matplotlib.org/gallery/index.html) der offiziellen Matplotlib Website.\n",
    "\n",
    "Jedes erdenkliche Beispiel ist dort zu finden."
   ]
  },
  {
   "cell_type": "code",
   "execution_count": null,
   "metadata": {},
   "outputs": [],
   "source": [
    "%matplotlib notebook\n",
    "import matplotlib.pyplot as plt\n",
    "import numpy as np\n",
    "\n",
    "# Daten erzeugen\n",
    "x = np.arange(100)\n",
    "y = np.random.random(100)\n",
    "\n",
    "# Neue Figure erzeugen\n",
    "fig = plt.figure()\n",
    "# Liniendiagramm erstellen und anzeigen lassen\n",
    "plt.plot(x, y)"
   ]
  },
  {
   "cell_type": "code",
   "execution_count": null,
   "metadata": {},
   "outputs": [],
   "source": [
    "fig = plt.figure()\n",
    "# Scatter-plot erstellen\n",
    "plt.scatter(x,y)"
   ]
  },
  {
   "cell_type": "code",
   "execution_count": null,
   "metadata": {
    "scrolled": true
   },
   "outputs": [],
   "source": [
    "fig = plt.figure()\n",
    "# Histogramm erstellen\n",
    "plt.hist(y);"
   ]
  },
  {
   "cell_type": "code",
   "execution_count": null,
   "metadata": {},
   "outputs": [],
   "source": [
    "# Optionen um die plots anzupassen\n",
    "\n",
    "# Neue Figure erzeugen\n",
    "fig = plt.figure()\n",
    "# Zeichenfläche zur Figure hinzufügen\n",
    "ax = fig.add_subplot(111)\n",
    "\n",
    "# Liniendiagramm erstellen und anzeigen lassen\n",
    "ax.plot(x, y, label='Zufallszahlen')\n",
    "# Legende zufügen\n",
    "ax.legend()\n",
    "\n",
    "# Achsen und Titelbeschriftungen hinzufügen\n",
    "ax.set_xlabel('x Achse')\n",
    "ax.set_ylabel('y Achse')\n",
    "ax.set_title('Titelbeschriftung')\n",
    "\n",
    "# Gitternetz hinzufügen\n",
    "ax.grid()\n"
   ]
  },
  {
   "cell_type": "code",
   "execution_count": null,
   "metadata": {},
   "outputs": [],
   "source": [
    "# Bilder sind nichts anderes als Matrizen (vgl. Vortrag)\n",
    "\n",
    "import scipy.misc\n",
    "# Beispielbild aus Scipy Modul laden\n",
    "img = scipy.misc.face()\n",
    "\n",
    "\n",
    "f, ax = plt.subplots(1,1)\n",
    "\n",
    "ax.imshow(img)\n"
   ]
  },
  {
   "cell_type": "code",
   "execution_count": null,
   "metadata": {},
   "outputs": [],
   "source": [
    "# Colorbar\n",
    "fig = plt.figure()\n",
    "ax1 = fig.add_subplot(111)\n",
    "\n",
    "\n",
    "gray = np.sum(img, 2)\n",
    "image = ax1.imshow(gray)\n",
    "\n",
    "\n",
    "plt.colorbar(image, ax=ax1, orientation='horizontal')"
   ]
  },
  {
   "cell_type": "markdown",
   "metadata": {},
   "source": [
    "Wir haben jetzt mehrere Möglichkeiten kennen gelernt axis Objekte zu erzeugen. Man kann mehrere axis Objekte in einer Figure als subplots zusammenfassen. Hierbei existieren verschiedene Ansätze."
   ]
  },
  {
   "cell_type": "code",
   "execution_count": null,
   "metadata": {},
   "outputs": [],
   "source": [
    "fig, [ax1, ax2] = plt.subplots(1, 2)\n",
    "\n",
    "ax1.plot(x,y)\n",
    "ax2.scatter(x,y)\n",
    "\n",
    "plt.tight_layout() # Entfernt überflüssige Ränder"
   ]
  },
  {
   "cell_type": "code",
   "execution_count": null,
   "metadata": {},
   "outputs": [],
   "source": [
    "# 2. Möglichkeit\n",
    "\n",
    "f = plt.figure()\n",
    "ax1 = f.add_subplot(121)\n",
    "ax2 = f.add_subplot(122)\n",
    "\n",
    "ax1.plot(x,y)\n",
    "ax2.scatter(x,y)\n",
    "\n",
    "plt.tight_layout()"
   ]
  },
  {
   "cell_type": "code",
   "execution_count": null,
   "metadata": {},
   "outputs": [],
   "source": []
  },
  {
   "cell_type": "markdown",
   "metadata": {},
   "source": [
    "## Optionale Paramter von Funktionen\n",
    "Viele `numpy`, `matplotlib` und `scipy`-Funktionen die wir im Praktikum benutzen wollen haben optionale Parameter. D.h. die Funktion verhält sich leicht unterschiedlich, wenn man über die benötigten Parameter hinaus weitere Parameter übergibt.\n",
    "\n",
    "Ein (zugegebenermaßen) sehr komplexes Beispiel ist die Funktion `scipy.ndimage.affine_transform`. Ihr findet die Dokumentation [hier](https://docs.scipy.org/doc/scipy/reference/generated/scipy.ndimage.affine_transform.html).\n",
    "\n",
    "\n",
    "Alle parameter die nicht mit einem `=` notiert werden sind unbedingt benötigte Parameter. In diesen Fall ist das das Input-Array und die Transformationsmatrix. Darüber hinaus könne wir aber auch z.B. die Interpolationsordnung und die Form der Ausgabe festlegen.\n",
    "\n",
    "#### Beispiel:"
   ]
  },
  {
   "cell_type": "code",
   "execution_count": null,
   "metadata": {},
   "outputs": [],
   "source": [
    "from scipy.misc import face\n",
    "import matplotlib.pyplot as plt\n",
    "from scipy.ndimage import affine_transform\n",
    "import numpy as np\n",
    "\n",
    "f, [ax1, ax2, ax3] = plt.subplots(1, 3, figsize=(9, 2))\n",
    "\n",
    "im1 = face()\n",
    "im2 = affine_transform(im1, np.diag([1, 0.5, 1]))\n",
    "im3 = affine_transform(\\\n",
    "       im1, np.diag([1, 0.5, 1]), output_shape=(768, 2048, 3), order=1)\n",
    "\n",
    "ax1.imshow(im1)\n",
    "ax2.imshow(im2)\n",
    "ax3.imshow(im3)\n",
    "\n",
    "ax1.set_title('input')\n",
    "ax2.set_title('default parameter')\n",
    "ax3.set_title('additional parameter')"
   ]
  },
  {
   "cell_type": "markdown",
   "metadata": {},
   "source": [
    "## Vertiefendes Wissen (Erweiterte Terminologie)\n",
    "*Nicht unbedingt notwendig aber gut zu wissen*\n",
    "### Klassen\n",
    "\n",
    "Ihr habt bereits mitbekommen, dass man in Python alle denkbaren Strukturen in Variablen speichern kann. Diese Strukturen könnne ganz einfach sein wie ein Skalarwert, können aber auch richtig kompliziert werden. Ein Beispiel ist z.B. ein numpy array mit nullen:"
   ]
  },
  {
   "cell_type": "code",
   "execution_count": null,
   "metadata": {},
   "outputs": [],
   "source": [
    "import numpy as np\n",
    "A = np.zeros((5, 5))\n",
    "print(A)\n",
    "print(type(A))"
   ]
  },
  {
   "cell_type": "markdown",
   "metadata": {},
   "source": [
    "Die Variable `A` beinhaltet jetzt ein Objekt der Klasse der numpy Klasse [ndarray](https://docs.scipy.org/doc/numpy/reference/arrays.ndarray.html). Diese Klasse beinhaltet n-dimensionale Arrays (oder mathematisch ausgedrückt Tensoren beliebiger Stufe). Wir können weitere Objekte dieser Klasse erzeugen:"
   ]
  },
  {
   "cell_type": "code",
   "execution_count": null,
   "metadata": {},
   "outputs": [],
   "source": [
    "B = np.zeros((1))\n",
    "print('B = \\n', B)\n",
    "print(type(B), '\\n')\n",
    "\n",
    "C = np.zeros((3, 4, 5))\n",
    "print('C = \\n', C)\n",
    "print(type(C))"
   ]
  },
  {
   "cell_type": "markdown",
   "metadata": {},
   "source": [
    "Wie ihr in der oben velinkten Dokumentation lesen könnt, besitzt die Klasse ndarray verschiedenste Methoden (Das sind Funktionen die direkt auf dem aktuellen Objekt ausgeführt werden und es modifizieren). Beispiele:"
   ]
  },
  {
   "cell_type": "code",
   "execution_count": null,
   "metadata": {},
   "outputs": [],
   "source": [
    "C.flatten() # gibt einen 1 dimensionale Kopie des arrays aus."
   ]
  },
  {
   "cell_type": "code",
   "execution_count": null,
   "metadata": {},
   "outputs": [],
   "source": [
    "C.reshape(6,10) # Formt das Array in eine neue Form um"
   ]
  },
  {
   "cell_type": "markdown",
   "metadata": {},
   "source": [
    "Die Klasse ndarray besitzt nicht nur Methoden, sondern auch Attribute. Wir können uns z.B. die Form anzeigen lassen und die Anzahl der Dimensionen"
   ]
  },
  {
   "cell_type": "code",
   "execution_count": null,
   "metadata": {},
   "outputs": [],
   "source": [
    "C.shape"
   ]
  },
  {
   "cell_type": "code",
   "execution_count": null,
   "metadata": {},
   "outputs": [],
   "source": [
    "C.ndim"
   ]
  },
  {
   "cell_type": "markdown",
   "metadata": {},
   "source": [
    "Wirklich mächtig werden Klassen wenn man Vererbung von Attributen und Funktionen benuztzt."
   ]
  },
  {
   "cell_type": "code",
   "execution_count": null,
   "metadata": {},
   "outputs": [],
   "source": [
    "class Pflanze:\n",
    "    def __init__(self):\n",
    "        print('Ich bin eine neue Pflanze')\n",
    "        self.groesse = 1\n",
    "        return self\n",
    "    def waechst(self):\n",
    "        self.groesse += 1\n",
    "        print('Die Pflanze ist jetzt {} Einheiten groß'.format(self.groesse))\n",
    "    "
   ]
  },
  {
   "cell_type": "code",
   "execution_count": null,
   "metadata": {},
   "outputs": [],
   "source": [
    "class Blume(Pflanze):\n",
    "    def __init__(self, bluetenfarbe):\n",
    "        super().__init__()\n",
    "        self.bluetenfarbe = bluetenfarbe\n",
    "        print('Ich bin eine Blume mit {} Blüten'.format(self.bluetenfarbe))\n",
    "        "
   ]
  },
  {
   "cell_type": "code",
   "execution_count": null,
   "metadata": {},
   "outputs": [],
   "source": [
    "class Baum(Pflanze):\n",
    "    def __init__(self, stammumfang):\n",
    "        super().__init__()\n",
    "        self.stammumfang = stammumfang\n",
    "        print('Mein Stamm hat einen Umfang von {} Einheiten'.format(self.stammumfang))        "
   ]
  },
  {
   "cell_type": "code",
   "execution_count": null,
   "metadata": {},
   "outputs": [],
   "source": [
    "a = Blume('rot')"
   ]
  },
  {
   "cell_type": "code",
   "execution_count": null,
   "metadata": {},
   "outputs": [],
   "source": [
    "a.waechst()"
   ]
  },
  {
   "cell_type": "code",
   "execution_count": null,
   "metadata": {},
   "outputs": [],
   "source": [
    "b = Baum(2)"
   ]
  }
 ],
 "metadata": {
  "kernelspec": {
   "display_name": "Python 3",
   "language": "python",
   "name": "python3"
  },
  "language_info": {
   "codemirror_mode": {
    "name": "ipython",
    "version": 3
   },
   "file_extension": ".py",
   "mimetype": "text/x-python",
   "name": "python",
   "nbconvert_exporter": "python",
   "pygments_lexer": "ipython3",
   "version": "3.7.3"
  }
 },
 "nbformat": 4,
 "nbformat_minor": 2
}
